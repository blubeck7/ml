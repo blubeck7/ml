{
 "cells": [
  {
   "cell_type": "markdown",
   "id": "149ad0b5-391d-4d41-854b-ad85647a4e57",
   "metadata": {},
   "source": [
    "# Imports"
   ]
  },
  {
   "cell_type": "code",
   "execution_count": 1,
   "id": "223178a2-05aa-4d3d-a0d5-a064db985cc2",
   "metadata": {},
   "outputs": [],
   "source": [
    "import pandas as pd\n",
    "import numpy as np"
   ]
  },
  {
   "cell_type": "markdown",
   "id": "df80e797-214e-4d25-bbe0-4d0ff54baf45",
   "metadata": {},
   "source": [
    "# Introduction"
   ]
  },
  {
   "cell_type": "markdown",
   "id": "8a048942-17d6-4847-998e-aacdc85d611b",
   "metadata": {},
   "source": [
    "A fictional company MBAs R Us advertises that its program increases a person’s score on the GMAT by an average of forty points. As a way of checking the validity of that claim, a consumer watchdog group randomly hired fifteen students to take both the review course and the GMAT. Prior to starting the course, the fifteen students were given a diagnostic test that predicted how well they would do on the GMAT in the absence of any special training. The watchdog group recorded the fifteen students' predicted scores and their scores after taking the review course. Is MBAs R Us claim believable?"
   ]
  },
  {
   "cell_type": "code",
   "execution_count": 8,
   "id": "35824590-a5d3-4f68-aa4b-00dc95c25167",
   "metadata": {},
   "outputs": [],
   "source": [
    "df = pd.read_csv(\"../datasets/gmat_scores/gmat_scores.csv\")"
   ]
  },
  {
   "cell_type": "code",
   "execution_count": 9,
   "id": "4ae0bfc4-be3a-4f2f-ab0e-f6362b72bd84",
   "metadata": {},
   "outputs": [
    {
     "data": {
      "text/html": [
       "<div>\n",
       "<style scoped>\n",
       "    .dataframe tbody tr th:only-of-type {\n",
       "        vertical-align: middle;\n",
       "    }\n",
       "\n",
       "    .dataframe tbody tr th {\n",
       "        vertical-align: top;\n",
       "    }\n",
       "\n",
       "    .dataframe thead th {\n",
       "        text-align: right;\n",
       "    }\n",
       "</style>\n",
       "<table border=\"1\" class=\"dataframe\">\n",
       "  <thead>\n",
       "    <tr style=\"text-align: right;\">\n",
       "      <th></th>\n",
       "      <th>subject</th>\n",
       "      <th>prior</th>\n",
       "      <th>post</th>\n",
       "    </tr>\n",
       "  </thead>\n",
       "  <tbody>\n",
       "    <tr>\n",
       "      <th>0</th>\n",
       "      <td>SA</td>\n",
       "      <td>494</td>\n",
       "      <td>529</td>\n",
       "    </tr>\n",
       "    <tr>\n",
       "      <th>1</th>\n",
       "      <td>LG</td>\n",
       "      <td>608</td>\n",
       "      <td>645</td>\n",
       "    </tr>\n",
       "    <tr>\n",
       "      <th>2</th>\n",
       "      <td>SH</td>\n",
       "      <td>575</td>\n",
       "      <td>608</td>\n",
       "    </tr>\n",
       "    <tr>\n",
       "      <th>3</th>\n",
       "      <td>KN</td>\n",
       "      <td>460</td>\n",
       "      <td>494</td>\n",
       "    </tr>\n",
       "    <tr>\n",
       "      <th>4</th>\n",
       "      <td>DF</td>\n",
       "      <td>715</td>\n",
       "      <td>753</td>\n",
       "    </tr>\n",
       "    <tr>\n",
       "      <th>5</th>\n",
       "      <td>SH</td>\n",
       "      <td>473</td>\n",
       "      <td>513</td>\n",
       "    </tr>\n",
       "    <tr>\n",
       "      <th>6</th>\n",
       "      <td>ML</td>\n",
       "      <td>544</td>\n",
       "      <td>579</td>\n",
       "    </tr>\n",
       "    <tr>\n",
       "      <th>7</th>\n",
       "      <td>JG</td>\n",
       "      <td>595</td>\n",
       "      <td>631</td>\n",
       "    </tr>\n",
       "    <tr>\n",
       "      <th>8</th>\n",
       "      <td>KH</td>\n",
       "      <td>386</td>\n",
       "      <td>424</td>\n",
       "    </tr>\n",
       "    <tr>\n",
       "      <th>9</th>\n",
       "      <td>HS</td>\n",
       "      <td>537</td>\n",
       "      <td>570</td>\n",
       "    </tr>\n",
       "    <tr>\n",
       "      <th>10</th>\n",
       "      <td>LL</td>\n",
       "      <td>573</td>\n",
       "      <td>601</td>\n",
       "    </tr>\n",
       "    <tr>\n",
       "      <th>11</th>\n",
       "      <td>CE</td>\n",
       "      <td>450</td>\n",
       "      <td>484</td>\n",
       "    </tr>\n",
       "    <tr>\n",
       "      <th>12</th>\n",
       "      <td>KK</td>\n",
       "      <td>636</td>\n",
       "      <td>683</td>\n",
       "    </tr>\n",
       "    <tr>\n",
       "      <th>13</th>\n",
       "      <td>CW</td>\n",
       "      <td>546</td>\n",
       "      <td>588</td>\n",
       "    </tr>\n",
       "    <tr>\n",
       "      <th>14</th>\n",
       "      <td>DP</td>\n",
       "      <td>655</td>\n",
       "      <td>701</td>\n",
       "    </tr>\n",
       "  </tbody>\n",
       "</table>\n",
       "</div>"
      ],
      "text/plain": [
       "   subject  prior  post\n",
       "0       SA    494   529\n",
       "1       LG    608   645\n",
       "2       SH    575   608\n",
       "3       KN    460   494\n",
       "4       DF    715   753\n",
       "5       SH    473   513\n",
       "6       ML    544   579\n",
       "7       JG    595   631\n",
       "8       KH    386   424\n",
       "9       HS    537   570\n",
       "10      LL    573   601\n",
       "11      CE    450   484\n",
       "12      KK    636   683\n",
       "13      CW    546   588\n",
       "14      DP    655   701"
      ]
     },
     "execution_count": 9,
     "metadata": {},
     "output_type": "execute_result"
    }
   ],
   "source": [
    "df"
   ]
  },
  {
   "cell_type": "markdown",
   "id": "b7eb0c56-2d55-471c-8c5e-18a52adf81bc",
   "metadata": {},
   "source": [
    "# Experimental Design"
   ]
  },
  {
   "cell_type": "markdown",
   "id": "e7007076-3c89-4788-a2e5-c85b7005778a",
   "metadata": {},
   "source": [
    "Before proceeding to analyze the data, let's review the experimental design the consumer watchdog group used to assess MBAs R Us' claim. The experimental design had the following basic parts: \n",
    "\n",
    "- The **subject** of the experimental design was a student.\n",
    "- The single **factor** or **treatment** applied to the students was \"Review Course\", and it had two **levels**: \"Took the Review Course\" and \"Did not Take the Review Course\". Also note that every factor in an experimental design is either a **fixed** effect or a **random** effect. A fixed effect is factor that the was preselected before the experiment, and a random effect is a factor that was not. The factor in this experiment was fixed.\n",
    "- We know the consumer watchdog group randomly selected the students, but we do not know anything about where the students took the GMAT or what time of day. If the students had been divided into two distinct test groups that used different test sites, then the experimental design would have had two **blocks**, because each test site would have had a different environmental conditions that could have affected the students' scores. For example, one site could have been noisy, while the other site was quiet. However, any blocks that may have been present in the experimental design were irrelevant because the consumer watchdog group wanted to compare students against themselves - did a student's GMAT score improve?\n",
    "- The prior and post GMAT scores are **dependent** because they not only depend on the review course but also on the students' innate abilities. The experimental design used repeated measurements.\n",
    "- The measurements, i.e. the GMAT scores, are **similar** because they have the same units, i.e. score points.\n",
    "- Lastly, the measurements are **quantitative** and not qualitative. (Qualtitaive measurements can come from grouping subjects by factor/level.\n",
    "\n",
    "The most common experimental designs used are one-sample, two-sample, *k*-sample, paired, randomized block, regression/correlation, categorical, and factorial. The answers to five questions can be used to determine the experiemental design. We list the five questions and answers for the data given in the Introduction.\n",
    "\n",
    "1. Are the observations quantitative or qualitative? Quantitave.\n",
    "2. Are the units similar or dissimilar? Similar.\n",
    "3. Is there one factor or more than one? One.\n",
    "4. How many factor levels are involved? Two.\n",
    "5. Are the observations dependent or independent? Dependent.\n",
    "\n",
    "Using the flowchart in Figure 1, we see that the experimental design was a **paired data model** design. Futhermore, the model equations, which express an arbitrary measurement as a sum of fixed and random effects, for a paired data model are the following:\n",
    "\n",
    "\\begin{align}\n",
    "X_i &= \\mu_X + P_i + \\epsilon_i, \\quad i = 1,2,\\dots, n \\\\\n",
    "Y_i &= \\mu_Y + P_i + \\epsilon'_i, \\quad i = 1,2,\\dots, n.\n",
    "\\end{align}\n",
    "\n",
    "For this case study, $X_i$ is the $i$-th student's score before to taking the review course, $Y_i$ is the $i$-th student's score after to taking the review course,\n",
    "$P_i$ is the $i$-th student's individual conditions that uniquely affect its scores, and $\\epsilon_i, \\epsilon'_i$ are the random effects that could affect a student's score, such as noise, hunger, etc."
   ]
  },
  {
   "cell_type": "markdown",
   "id": "48ae7ea3-e50f-4f9b-b687-59021f03dba4",
   "metadata": {},
   "source": [
    "<center><b>Figure 1: Determining the Experimental Design</b></center>\n",
    "\n",
    "![](../images/determining_experimental_design_flow_chart.png) "
   ]
  },
  {
   "cell_type": "code",
   "execution_count": null,
   "id": "ad6c3110-b448-4662-8219-123744d90fea",
   "metadata": {},
   "outputs": [],
   "source": []
  },
  {
   "cell_type": "code",
   "execution_count": null,
   "id": "f64b7bcd-9783-4d94-be02-b9ed20c7e078",
   "metadata": {},
   "outputs": [],
   "source": []
  },
  {
   "cell_type": "code",
   "execution_count": null,
   "id": "ca2f7729-a6ad-4522-91d1-eb135d54030e",
   "metadata": {},
   "outputs": [],
   "source": []
  },
  {
   "cell_type": "code",
   "execution_count": null,
   "id": "4d437271-f20a-4caf-bf30-851ed1d158be",
   "metadata": {},
   "outputs": [],
   "source": [
    "As soon as a design has been chosen, a second question immediately follows:\n",
    "How large should the sample size (or sample sizes) be?"
   ]
  }
 ],
 "metadata": {
  "kernelspec": {
   "display_name": "Python 3 (ipykernel)",
   "language": "python",
   "name": "python3"
  },
  "language_info": {
   "codemirror_mode": {
    "name": "ipython",
    "version": 3
   },
   "file_extension": ".py",
   "mimetype": "text/x-python",
   "name": "python",
   "nbconvert_exporter": "python",
   "pygments_lexer": "ipython3",
   "version": "3.11.9"
  }
 },
 "nbformat": 4,
 "nbformat_minor": 5
}
